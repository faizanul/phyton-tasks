{
 "cells": [
  {
   "cell_type": "code",
   "execution_count": 3,
   "metadata": {},
   "outputs": [
    {
     "name": "stdout",
     "output_type": "stream",
     "text": [
      "faizan win !!\n"
     ]
    }
   ],
   "source": [
    "name1 = \"faizan\";\n",
    "faizanMarks = 76;\n",
    "name2 = \"irfan\";\n",
    "irfanMarks = 78;\n",
    "\n",
    "if faizanMarks == irfanMarks:\n",
    "    print(\"Draw !!\");\n",
    "\n",
    "elif faizanMarks < irfanMarks:\n",
    "    print(str(name1) + \" win !!\");\n",
    "else:\n",
    "    print(str(name2) + \" win !!\");\n",
    "\n",
    "\n",
    "  \n"
   ]
  },
  {
   "cell_type": "code",
   "execution_count": null,
   "metadata": {},
   "outputs": [],
   "source": []
  }
 ],
 "metadata": {
  "kernelspec": {
   "display_name": "Python 3",
   "language": "python",
   "name": "python3"
  },
  "language_info": {
   "codemirror_mode": {
    "name": "ipython",
    "version": 3
   },
   "file_extension": ".py",
   "mimetype": "text/x-python",
   "name": "python",
   "nbconvert_exporter": "python",
   "pygments_lexer": "ipython3",
   "version": "3.6.5"
  }
 },
 "nbformat": 4,
 "nbformat_minor": 2
}
