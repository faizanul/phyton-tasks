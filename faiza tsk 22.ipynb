{
 "cells": [
  {
   "cell_type": "code",
   "execution_count": 1,
   "metadata": {},
   "outputs": [
    {
     "name": "stdout",
     "output_type": "stream",
     "text": [
      "['Mehar  Khan']\n",
      "['Mehar  Khan', 'Mehar  Niazi']\n",
      "['Mehar  Khan', 'Mehar  Niazi', 'Mehar  Bloch']\n",
      "['Mehar  Khan', 'Mehar  Niazi', 'Mehar  Bloch', 'Mehar  Arain']\n",
      "['Mehar  Khan', 'Mehar  Niazi', 'Mehar  Bloch', 'Mehar  Arain', 'Ali  Khan']\n",
      "['Mehar  Khan', 'Mehar  Niazi', 'Mehar  Bloch', 'Mehar  Arain', 'Ali  Khan', 'Ali  Niazi']\n",
      "['Mehar  Khan', 'Mehar  Niazi', 'Mehar  Bloch', 'Mehar  Arain', 'Ali  Khan', 'Ali  Niazi', 'Ali  Bloch']\n",
      "['Mehar  Khan', 'Mehar  Niazi', 'Mehar  Bloch', 'Mehar  Arain', 'Ali  Khan', 'Ali  Niazi', 'Ali  Bloch', 'Ali  Arain']\n",
      "['Mehar  Khan', 'Mehar  Niazi', 'Mehar  Bloch', 'Mehar  Arain', 'Ali  Khan', 'Ali  Niazi', 'Ali  Bloch', 'Ali  Arain', 'Sohail  Khan']\n",
      "['Mehar  Khan', 'Mehar  Niazi', 'Mehar  Bloch', 'Mehar  Arain', 'Ali  Khan', 'Ali  Niazi', 'Ali  Bloch', 'Ali  Arain', 'Sohail  Khan', 'Sohail  Niazi']\n",
      "['Mehar  Khan', 'Mehar  Niazi', 'Mehar  Bloch', 'Mehar  Arain', 'Ali  Khan', 'Ali  Niazi', 'Ali  Bloch', 'Ali  Arain', 'Sohail  Khan', 'Sohail  Niazi', 'Sohail  Bloch']\n",
      "['Mehar  Khan', 'Mehar  Niazi', 'Mehar  Bloch', 'Mehar  Arain', 'Ali  Khan', 'Ali  Niazi', 'Ali  Bloch', 'Ali  Arain', 'Sohail  Khan', 'Sohail  Niazi', 'Sohail  Bloch', 'Sohail  Arain']\n",
      "['Mehar  Khan', 'Mehar  Niazi', 'Mehar  Bloch', 'Mehar  Arain', 'Ali  Khan', 'Ali  Niazi', 'Ali  Bloch', 'Ali  Arain', 'Sohail  Khan', 'Sohail  Niazi', 'Sohail  Bloch', 'Sohail  Arain', 'Usama  Khan']\n",
      "['Mehar  Khan', 'Mehar  Niazi', 'Mehar  Bloch', 'Mehar  Arain', 'Ali  Khan', 'Ali  Niazi', 'Ali  Bloch', 'Ali  Arain', 'Sohail  Khan', 'Sohail  Niazi', 'Sohail  Bloch', 'Sohail  Arain', 'Usama  Khan', 'Usama  Niazi']\n",
      "['Mehar  Khan', 'Mehar  Niazi', 'Mehar  Bloch', 'Mehar  Arain', 'Ali  Khan', 'Ali  Niazi', 'Ali  Bloch', 'Ali  Arain', 'Sohail  Khan', 'Sohail  Niazi', 'Sohail  Bloch', 'Sohail  Arain', 'Usama  Khan', 'Usama  Niazi', 'Usama  Bloch']\n",
      "['Mehar  Khan', 'Mehar  Niazi', 'Mehar  Bloch', 'Mehar  Arain', 'Ali  Khan', 'Ali  Niazi', 'Ali  Bloch', 'Ali  Arain', 'Sohail  Khan', 'Sohail  Niazi', 'Sohail  Bloch', 'Sohail  Arain', 'Usama  Khan', 'Usama  Niazi', 'Usama  Bloch', 'Usama  Arain']\n",
      "['Mehar  Khan', 'Mehar  Niazi', 'Mehar  Bloch', 'Mehar  Arain', 'Ali  Khan', 'Ali  Niazi', 'Ali  Bloch', 'Ali  Arain', 'Sohail  Khan', 'Sohail  Niazi', 'Sohail  Bloch', 'Sohail  Arain', 'Usama  Khan', 'Usama  Niazi', 'Usama  Bloch', 'Usama  Arain', 'Nafees  Khan']\n",
      "['Mehar  Khan', 'Mehar  Niazi', 'Mehar  Bloch', 'Mehar  Arain', 'Ali  Khan', 'Ali  Niazi', 'Ali  Bloch', 'Ali  Arain', 'Sohail  Khan', 'Sohail  Niazi', 'Sohail  Bloch', 'Sohail  Arain', 'Usama  Khan', 'Usama  Niazi', 'Usama  Bloch', 'Usama  Arain', 'Nafees  Khan', 'Nafees  Niazi']\n",
      "['Mehar  Khan', 'Mehar  Niazi', 'Mehar  Bloch', 'Mehar  Arain', 'Ali  Khan', 'Ali  Niazi', 'Ali  Bloch', 'Ali  Arain', 'Sohail  Khan', 'Sohail  Niazi', 'Sohail  Bloch', 'Sohail  Arain', 'Usama  Khan', 'Usama  Niazi', 'Usama  Bloch', 'Usama  Arain', 'Nafees  Khan', 'Nafees  Niazi', 'Nafees  Bloch']\n",
      "['Mehar  Khan', 'Mehar  Niazi', 'Mehar  Bloch', 'Mehar  Arain', 'Ali  Khan', 'Ali  Niazi', 'Ali  Bloch', 'Ali  Arain', 'Sohail  Khan', 'Sohail  Niazi', 'Sohail  Bloch', 'Sohail  Arain', 'Usama  Khan', 'Usama  Niazi', 'Usama  Bloch', 'Usama  Arain', 'Nafees  Khan', 'Nafees  Niazi', 'Nafees  Bloch', 'Nafees  Arain']\n"
     ]
    }
   ],
   "source": [
    "first_names = [\"Mehar \", \"Ali \", \"Sohail \", \"Usama \", \"Nafees \"] \n",
    "last_names = [\"Khan\", \"Niazi\", \"Bloch\", \"Arain\"] \n",
    "full_names = []   \n",
    "for a_first_name in first_names:  \n",
    "    for a_last_name in last_names:  \n",
    "        full_names.append(a_first_name + \" \" + a_last_name) \n",
    "        print (full_names)"
   ]
  },
  {
   "cell_type": "code",
   "execution_count": null,
   "metadata": {},
   "outputs": [],
   "source": []
  }
 ],
 "metadata": {
  "kernelspec": {
   "display_name": "Python 3",
   "language": "python",
   "name": "python3"
  },
  "language_info": {
   "codemirror_mode": {
    "name": "ipython",
    "version": 3
   },
   "file_extension": ".py",
   "mimetype": "text/x-python",
   "name": "python",
   "nbconvert_exporter": "python",
   "pygments_lexer": "ipython3",
   "version": "3.6.5"
  }
 },
 "nbformat": 4,
 "nbformat_minor": 2
}
