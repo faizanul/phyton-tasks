{
 "cells": [
  {
   "cell_type": "code",
   "execution_count": 1,
   "metadata": {},
   "outputs": [
    {
     "name": "stdout",
     "output_type": "stream",
     "text": [
      "name is correct !!\n",
      "id found\n"
     ]
    }
   ],
   "source": [
    "name = \"asim\"\n",
    "studentId = \"1929-2015\";\n",
    "\n",
    "if name == \"asim\":\n",
    "    print(\"name is correct !!\");\n",
    "    if studentId == \"1929-2015\":\n",
    "        print(\"id found\");\n",
    "    else:\n",
    "        print(\"record not found\");\n",
    "else:\n",
    "    print(\"record not found\");"
   ]
  },
  {
   "cell_type": "code",
   "execution_count": null,
   "metadata": {},
   "outputs": [],
   "source": []
  }
 ],
 "metadata": {
  "kernelspec": {
   "display_name": "Python 3",
   "language": "python",
   "name": "python3"
  },
  "language_info": {
   "codemirror_mode": {
    "name": "ipython",
    "version": 3
   },
   "file_extension": ".py",
   "mimetype": "text/x-python",
   "name": "python",
   "nbconvert_exporter": "python",
   "pygments_lexer": "ipython3",
   "version": "3.6.5"
  }
 },
 "nbformat": 4,
 "nbformat_minor": 2
}
