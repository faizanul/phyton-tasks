{
 "cells": [
  {
   "cell_type": "code",
   "execution_count": 17,
   "metadata": {},
   "outputs": [
    {
     "name": "stdout",
     "output_type": "stream",
     "text": [
      "(0.5555555555555556,) (45,) (-4,) (14,)\n"
     ]
    }
   ],
   "source": [
    "first_number = 5\n",
    "second_number = 9\n",
    "result1 = first_number / second_number ,\n",
    "result2 = first_number * second_number ,\n",
    "result3 = first_number - second_number ,\n",
    "result4 = first_number + second_number ,\n",
    "print(result1,result2,result3,result4)\n",
    "\n"
   ]
  }
 ],
 "metadata": {
  "kernelspec": {
   "display_name": "Python 3",
   "language": "python",
   "name": "python3"
  },
  "language_info": {
   "codemirror_mode": {
    "name": "ipython",
    "version": 3
   },
   "file_extension": ".py",
   "mimetype": "text/x-python",
   "name": "python",
   "nbconvert_exporter": "python",
   "pygments_lexer": "ipython3",
   "version": "3.6.5"
  }
 },
 "nbformat": 4,
 "nbformat_minor": 2
}
