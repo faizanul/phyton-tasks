{
 "cells": [
  {
   "cell_type": "code",
   "execution_count": 3,
   "metadata": {},
   "outputs": [
    {
     "name": "stdout",
     "output_type": "stream",
     "text": [
      "Go to doctor !!\n"
     ]
    }
   ],
   "source": [
    "faizanWeight = 50;\n",
    "irfanWeight = 72;\n",
    "ansabWeihgt = 60;\n",
    "\n",
    "faizanAge = 19;\n",
    "irfanAge = 22;\n",
    "ansabAge = 21;\n",
    "\n",
    "if faizanWeight > 65 and ansabAge >20:\n",
    "    print(\"join gym\");\n",
    "elif irfanWeight < 65 or (irfanAge < 30 and ansabAge > 18):\n",
    "    print(\"Go to doctor !!\");\n",
    "\n",
    "\n"
   ]
  }
 ],
 "metadata": {
  "kernelspec": {
   "display_name": "Python 3",
   "language": "python",
   "name": "python3"
  },
  "language_info": {
   "codemirror_mode": {
    "name": "ipython",
    "version": 3
   },
   "file_extension": ".py",
   "mimetype": "text/x-python",
   "name": "python",
   "nbconvert_exporter": "python",
   "pygments_lexer": "ipython3",
   "version": "3.6.5"
  }
 },
 "nbformat": 4,
 "nbformat_minor": 2
}
