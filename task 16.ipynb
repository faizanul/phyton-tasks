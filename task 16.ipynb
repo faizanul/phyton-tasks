{
 "cells": [
  {
   "cell_type": "code",
   "execution_count": 1,
   "metadata": {},
   "outputs": [
    {
     "name": "stdout",
     "output_type": "stream",
     "text": [
      "Nihari and  Polaow, both are delicious !\n",
      "Nihari and Qorma, both are  amazing ! \n",
      "Cricket is not a food :/ \n",
      "['Cricket', 'Nihari', 'Biryani', 'Karahi', 'Salad', 'Kabab', 'Polaow', 'Qorma']\n"
     ]
    }
   ],
   "source": [
    "foods = [ \"Nihari\", \"Biryani\", \"Karahi\", \"Salad\", \"Kabab\", \"Polaow\" ]\n",
    "\n",
    "print(str(foods[0]) + \" and  \" + str(foods[5])+\", both are delicious !\")\n",
    "\n",
    "foods.append(\"Qorma\")\n",
    "\n",
    "print(str(foods[0]) + \" and \" + str(foods[6])+\", both are  amazing ! \")\n",
    "\n",
    "foods.insert(0,\"Cricket\")\n",
    "\n",
    "print(str(foods[0]) +\" is not a food :/ \")\n",
    "\n",
    "print(str(foods))"
   ]
  },
  {
   "cell_type": "code",
   "execution_count": null,
   "metadata": {},
   "outputs": [],
   "source": []
  }
 ],
 "metadata": {
  "kernelspec": {
   "display_name": "Python 3",
   "language": "python",
   "name": "python3"
  },
  "language_info": {
   "codemirror_mode": {
    "name": "ipython",
    "version": 3
   },
   "file_extension": ".py",
   "mimetype": "text/x-python",
   "name": "python",
   "nbconvert_exporter": "python",
   "pygments_lexer": "ipython3",
   "version": "3.6.5"
  }
 },
 "nbformat": 4,
 "nbformat_minor": 2
}
