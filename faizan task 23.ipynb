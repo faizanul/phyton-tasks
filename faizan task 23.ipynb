{
 "cells": [
  {
   "cell_type": "code",
   "execution_count": 1,
   "metadata": {},
   "outputs": [
    {
     "name": "stdout",
     "output_type": "stream",
     "text": [
      "Enter your name:\n",
      "fazan\n",
      "Enter you Age\n",
      "18\n",
      "Hello, fazan Your age is: 18\n",
      "Hello, fazan Your age is: 18\n"
     ]
    }
   ],
   "source": [
    "print('Enter your name:');\n",
    "\n",
    "x = input();\n",
    "print ('Enter you Age');\n",
    "a = input();\n",
    "print('Hello, ' + x +' Your age is: ' + a);\n",
    "\n",
    "print(\"Hello, \" + str(x) + \" Your age is: \" + str(a));"
   ]
  },
  {
   "cell_type": "code",
   "execution_count": null,
   "metadata": {},
   "outputs": [],
   "source": []
  }
 ],
 "metadata": {
  "kernelspec": {
   "display_name": "Python 3",
   "language": "python",
   "name": "python3"
  },
  "language_info": {
   "codemirror_mode": {
    "name": "ipython",
    "version": 3
   },
   "file_extension": ".py",
   "mimetype": "text/x-python",
   "name": "python",
   "nbconvert_exporter": "python",
   "pygments_lexer": "ipython3",
   "version": "3.6.5"
  }
 },
 "nbformat": 4,
 "nbformat_minor": 2
}
