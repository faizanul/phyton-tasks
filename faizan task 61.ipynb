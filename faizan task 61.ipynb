{
 "cells": [
  {
   "cell_type": "code",
   "execution_count": 1,
   "metadata": {},
   "outputs": [
    {
     "name": "stdout",
     "output_type": "stream",
     "text": [
      "Dictionary form : {'name': 'Usama_Riaz', 'salary': 563000}\n"
     ]
    }
   ],
   "source": [
    "class emp: \n",
    "\tdef __init__(self): \n",
    "\t\tself.name = 'Usama_Riaz'\n",
    "\t\tself.salary = 563000\n",
    "\n",
    "\tdef show(self): \n",
    "\t\tprint (self.name)\n",
    "\t\tprint (self.salary)\n",
    "\n",
    "e1 = emp() \n",
    "print (\"Dictionary form :\", vars(e1))"
   ]
  },
  {
   "cell_type": "code",
   "execution_count": null,
   "metadata": {},
   "outputs": [],
   "source": []
  }
 ],
 "metadata": {
  "kernelspec": {
   "display_name": "Python 3",
   "language": "python",
   "name": "python3"
  },
  "language_info": {
   "codemirror_mode": {
    "name": "ipython",
    "version": 3
   },
   "file_extension": ".py",
   "mimetype": "text/x-python",
   "name": "python",
   "nbconvert_exporter": "python",
   "pygments_lexer": "ipython3",
   "version": "3.6.5"
  }
 },
 "nbformat": 4,
 "nbformat_minor": 2
}
