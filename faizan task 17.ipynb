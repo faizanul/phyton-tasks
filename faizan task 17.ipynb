{
 "cells": [
  {
   "cell_type": "code",
   "execution_count": 1,
   "metadata": {},
   "outputs": [
    {
     "name": "stdout",
     "output_type": "stream",
     "text": [
      "['Usama', 'Shahbaz', 'Asad', 'Fakhir']\n",
      "['Usama', 'Shahbaz', 'Asad']\n"
     ]
    }
   ],
   "source": [
    "Names = [\"Usama\", \"Shahbaz\", \"Asad\", \"Fakhir\"]\n",
    "\n",
    "print (Names)\n",
    "Friends = Names[0:3]\n",
    "\n",
    "print (Friends)\n"
   ]
  },
  {
   "cell_type": "code",
   "execution_count": null,
   "metadata": {},
   "outputs": [],
   "source": []
  }
 ],
 "metadata": {
  "kernelspec": {
   "display_name": "Python 3",
   "language": "python",
   "name": "python3"
  },
  "language_info": {
   "codemirror_mode": {
    "name": "ipython",
    "version": 3
   },
   "file_extension": ".py",
   "mimetype": "text/x-python",
   "name": "python",
   "nbconvert_exporter": "python",
   "pygments_lexer": "ipython3",
   "version": "3.6.5"
  }
 },
 "nbformat": 4,
 "nbformat_minor": 2
}
