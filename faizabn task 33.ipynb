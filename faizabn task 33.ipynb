{
 "cells": [
  {
   "cell_type": "code",
   "execution_count": 1,
   "metadata": {},
   "outputs": [
    {
     "name": "stdout",
     "output_type": "stream",
     "text": [
      "The Student First_Name is Mehar \n",
      "The Student Last_Name is  Khan\n",
      "The Student ID is  1716-2015 \n",
      "The Student Age is  19\n"
     ]
    }
   ],
   "source": [
    "Stundent = {\n",
    "  \"First_Name\": \"Mehar \",\n",
    "  \"Last_Name\": \" Khan\",\n",
    "  \"ID\": \" 1716-2015 \",\n",
    "  \"Age\": \" 19\",\n",
    "}\n",
    "for key , value in Stundent.items():\n",
    "    print(\"The Student \"+key+\" is \"+value)"
   ]
  },
  {
   "cell_type": "code",
   "execution_count": null,
   "metadata": {},
   "outputs": [],
   "source": []
  }
 ],
 "metadata": {
  "kernelspec": {
   "display_name": "Python 3",
   "language": "python",
   "name": "python3"
  },
  "language_info": {
   "codemirror_mode": {
    "name": "ipython",
    "version": 3
   },
   "file_extension": ".py",
   "mimetype": "text/x-python",
   "name": "python",
   "nbconvert_exporter": "python",
   "pygments_lexer": "ipython3",
   "version": "3.6.5"
  }
 },
 "nbformat": 4,
 "nbformat_minor": 2
}
