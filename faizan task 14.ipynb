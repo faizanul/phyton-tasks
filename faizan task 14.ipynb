{
 "cells": [
  {
   "cell_type": "code",
   "execution_count": 2,
   "metadata": {},
   "outputs": [
    {
     "name": "stdout",
     "output_type": "stream",
     "text": [
      "python follow precedence rules\n",
      "11.5\n",
      "13.5\n",
      "7.0\n"
     ]
    }
   ],
   "source": [
    "# addition will takes place after multiplication and division\n",
    "num1 = 4 + 5 * 3 / 2;\n",
    "\n",
    "# same as 5 * 3 /2 \n",
    "num2 = (4 + 5) * 3 / 2;\n",
    "\n",
    "# same as 1+12/2 \n",
    "num3 = 1 + (4 * 3) / 2;\n",
    "\n",
    "print(\"python follow precedence rules\");\n",
    "\n",
    "# this should produce 7.5\n",
    "print(num1);\n",
    "print(num2);\n",
    "print(num3);"
   ]
  },
  {
   "cell_type": "code",
   "execution_count": null,
   "metadata": {},
   "outputs": [],
   "source": []
  }
 ],
 "metadata": {
  "kernelspec": {
   "display_name": "Python 3",
   "language": "python",
   "name": "python3"
  },
  "language_info": {
   "codemirror_mode": {
    "name": "ipython",
    "version": 3
   },
   "file_extension": ".py",
   "mimetype": "text/x-python",
   "name": "python",
   "nbconvert_exporter": "python",
   "pygments_lexer": "ipython3",
   "version": "3.6.5"
  }
 },
 "nbformat": 4,
 "nbformat_minor": 2
}
