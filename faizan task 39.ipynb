{
 "cells": [
  {
   "cell_type": "code",
   "execution_count": null,
   "metadata": {},
   "outputs": [],
   "source": [
    "customers = [\n",
    "    {\n",
    "         \"customer id\": 0,\n",
    "         \"first name\":\"Usama\",\n",
    "         \"last name\": \"Riaz\",\n",
    "         \"address\": \"North Nazimabad\", \n",
    "    },\n",
    "    {\n",
    "        \"customer id\": 1,\n",
    "        \"first name\":\"Aashir\",\n",
    "        \"last name\": \"Araien\",\n",
    "        \"address\": \"gulshan\", \n",
    "    },\n",
    "    {\n",
    "        \"customer id\": 2, \n",
    "        \"first name\":\"Asad\",\n",
    "        \"last name\": \"Ikhlas\",\n",
    "        \"address\": \"F.B area\", \n",
    "    },]\n",
    "\n",
    "print(str(customers))"
   ]
  }
 ],
 "metadata": {
  "kernelspec": {
   "display_name": "Python 3",
   "language": "python",
   "name": "python3"
  },
  "language_info": {
   "codemirror_mode": {
    "name": "ipython",
    "version": 3
   },
   "file_extension": ".py",
   "mimetype": "text/x-python",
   "name": "python",
   "nbconvert_exporter": "python",
   "pygments_lexer": "ipython3",
   "version": "3.6.5"
  }
 },
 "nbformat": 4,
 "nbformat_minor": 2
}
